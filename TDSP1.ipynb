{
 "cells": [
  {
   "cell_type": "code",
   "execution_count": 2,
   "id": "17871c8c-d5b7-4881-8fb2-c3f084deec73",
   "metadata": {},
   "outputs": [],
   "source": [
    "import pandas as pd\n",
    "import numpy as np\n",
    "import matplotlib.pyplot as plt"
   ]
  },
  {
   "cell_type": "markdown",
   "id": "7108a27f-97e8-4871-ae8d-c4c53a47dfe9",
   "metadata": {},
   "source": [
    "#### Q1.  Who are the top 5 users in Basel with the highest number of followers? List their login in order, comma-separated"
   ]
  },
  {
   "cell_type": "code",
   "execution_count": 3,
   "id": "4259def7-3934-411b-b441-64d7d24bd92c",
   "metadata": {},
   "outputs": [
    {
     "data": {
      "text/html": [
       "<div>\n",
       "<style scoped>\n",
       "    .dataframe tbody tr th:only-of-type {\n",
       "        vertical-align: middle;\n",
       "    }\n",
       "\n",
       "    .dataframe tbody tr th {\n",
       "        vertical-align: top;\n",
       "    }\n",
       "\n",
       "    .dataframe thead th {\n",
       "        text-align: right;\n",
       "    }\n",
       "</style>\n",
       "<table border=\"1\" class=\"dataframe\">\n",
       "  <thead>\n",
       "    <tr style=\"text-align: right;\">\n",
       "      <th></th>\n",
       "      <th>login</th>\n",
       "      <th>name</th>\n",
       "      <th>company</th>\n",
       "      <th>location</th>\n",
       "      <th>email</th>\n",
       "      <th>hireable</th>\n",
       "      <th>bio</th>\n",
       "      <th>public_repos</th>\n",
       "      <th>followers</th>\n",
       "      <th>following</th>\n",
       "      <th>created_at</th>\n",
       "    </tr>\n",
       "  </thead>\n",
       "  <tbody>\n",
       "    <tr>\n",
       "      <th>0</th>\n",
       "      <td>yyx990803</td>\n",
       "      <td>Evan You</td>\n",
       "      <td>NaN</td>\n",
       "      <td>Singapore</td>\n",
       "      <td>NaN</td>\n",
       "      <td>False</td>\n",
       "      <td>Husband, father of two, independent OSS dev. @...</td>\n",
       "      <td>195</td>\n",
       "      <td>101817</td>\n",
       "      <td>96</td>\n",
       "      <td>2010-11-28T01:05:40Z</td>\n",
       "    </tr>\n",
       "    <tr>\n",
       "      <th>1</th>\n",
       "      <td>halfrost</td>\n",
       "      <td>halfrost</td>\n",
       "      <td>KUBEFLOW @CNCF</td>\n",
       "      <td>[California, Singapore, China]</td>\n",
       "      <td>i@halfrost.com</td>\n",
       "      <td>False</td>\n",
       "      <td>CS master @Stanford 💪 天道酬勤，勤能补拙。博观而约取，厚积而薄发。Go...</td>\n",
       "      <td>32</td>\n",
       "      <td>17039</td>\n",
       "      <td>361</td>\n",
       "      <td>2015-02-03T07:01:48Z</td>\n",
       "    </tr>\n",
       "    <tr>\n",
       "      <th>2</th>\n",
       "      <td>DIYgod</td>\n",
       "      <td>DIYgod</td>\n",
       "      <td>NATURAL SELECTION LABS</td>\n",
       "      <td>Singapore</td>\n",
       "      <td>i@diygod.me</td>\n",
       "      <td>False</td>\n",
       "      <td>写代码是热爱，写到世界充满爱！</td>\n",
       "      <td>86</td>\n",
       "      <td>14180</td>\n",
       "      <td>443</td>\n",
       "      <td>2014-07-25T09:27:56Z</td>\n",
       "    </tr>\n",
       "    <tr>\n",
       "      <th>3</th>\n",
       "      <td>yangshun</td>\n",
       "      <td>Yangshun Tay</td>\n",
       "      <td>GREATFRONTEND</td>\n",
       "      <td>Singapore</td>\n",
       "      <td>tay.yang.shun@gmail.com</td>\n",
       "      <td>False</td>\n",
       "      <td>Building @greatfrontend. Formerly @meta, @face...</td>\n",
       "      <td>107</td>\n",
       "      <td>11208</td>\n",
       "      <td>287</td>\n",
       "      <td>2012-01-09T12:30:00Z</td>\n",
       "    </tr>\n",
       "    <tr>\n",
       "      <th>4</th>\n",
       "      <td>bytedance</td>\n",
       "      <td>Bytedance Inc.</td>\n",
       "      <td>NaN</td>\n",
       "      <td>Singapore</td>\n",
       "      <td>NaN</td>\n",
       "      <td>False</td>\n",
       "      <td>NaN</td>\n",
       "      <td>295</td>\n",
       "      <td>7157</td>\n",
       "      <td>0</td>\n",
       "      <td>2013-04-15T08:03:53Z</td>\n",
       "    </tr>\n",
       "  </tbody>\n",
       "</table>\n",
       "</div>"
      ],
      "text/plain": [
       "       login            name                 company  \\\n",
       "0  yyx990803        Evan You                     NaN   \n",
       "1   halfrost        halfrost          KUBEFLOW @CNCF   \n",
       "2     DIYgod          DIYgod  NATURAL SELECTION LABS   \n",
       "3   yangshun    Yangshun Tay           GREATFRONTEND   \n",
       "4  bytedance  Bytedance Inc.                     NaN   \n",
       "\n",
       "                         location                    email  hireable  \\\n",
       "0                       Singapore                      NaN     False   \n",
       "1  [California, Singapore, China]           i@halfrost.com     False   \n",
       "2                       Singapore              i@diygod.me     False   \n",
       "3                       Singapore  tay.yang.shun@gmail.com     False   \n",
       "4                       Singapore                      NaN     False   \n",
       "\n",
       "                                                 bio  public_repos  followers  \\\n",
       "0  Husband, father of two, independent OSS dev. @...           195     101817   \n",
       "1  CS master @Stanford 💪 天道酬勤，勤能补拙。博观而约取，厚积而薄发。Go...            32      17039   \n",
       "2                                    写代码是热爱，写到世界充满爱！            86      14180   \n",
       "3  Building @greatfrontend. Formerly @meta, @face...           107      11208   \n",
       "4                                                NaN           295       7157   \n",
       "\n",
       "   following            created_at  \n",
       "0         96  2010-11-28T01:05:40Z  \n",
       "1        361  2015-02-03T07:01:48Z  \n",
       "2        443  2014-07-25T09:27:56Z  \n",
       "3        287  2012-01-09T12:30:00Z  \n",
       "4          0  2013-04-15T08:03:53Z  "
      ]
     },
     "execution_count": 3,
     "metadata": {},
     "output_type": "execute_result"
    }
   ],
   "source": [
    "users = pd.read_csv('users.csv')\n",
    "users.head()"
   ]
  },
  {
   "cell_type": "code",
   "execution_count": 4,
   "id": "f37b7348-3978-4355-948f-8b87845756c0",
   "metadata": {},
   "outputs": [],
   "source": [
    "users['hireable'] = users['hireable'].fillna(False).astype(bool)"
   ]
  },
  {
   "cell_type": "code",
   "execution_count": 5,
   "id": "a14993f9-48d3-4956-9cca-d4349c30f649",
   "metadata": {},
   "outputs": [
    {
     "name": "stdout",
     "output_type": "stream",
     "text": [
      "yyx990803,halfrost,DIYgod,yangshun,bytedance\n"
     ]
    }
   ],
   "source": [
    "top5 = users.sort_values(by='followers', ascending=False).head()\n",
    "print(','.join(top5['login'].tolist()))"
   ]
  },
  {
   "cell_type": "markdown",
   "id": "6cc86ddb-88c3-453c-bf56-29614358b62e",
   "metadata": {},
   "source": [
    "#### Q2. Who are the 5 earliest registered GitHub users in Basel? List their login in ascending order of created_at, comma-separated."
   ]
  },
  {
   "cell_type": "code",
   "execution_count": 6,
   "id": "afe79990-ccd3-4c8d-b184-45de1f19097c",
   "metadata": {},
   "outputs": [],
   "source": [
    "users['created_at'] = pd.to_datetime(users['created_at'])"
   ]
  },
  {
   "cell_type": "code",
   "execution_count": 7,
   "id": "f9645405-1745-4f06-9ba8-681b5c1e51b0",
   "metadata": {},
   "outputs": [
    {
     "name": "stdout",
     "output_type": "stream",
     "text": [
      "chuyeow,choonkeat,winston,cheeaun,nowa\n"
     ]
    }
   ],
   "source": [
    "top_earliest = users.sort_values(by='created_at').head()\n",
    "print(','.join(top_earliest['login'].tolist()))"
   ]
  },
  {
   "cell_type": "markdown",
   "id": "1675cbcf-6a8b-4af8-b24a-1372f68efd6b",
   "metadata": {},
   "source": [
    "#### Q3. What are the 3 most popular license among these users? Ignore missing licenses. List the license_name in order, comma-separated."
   ]
  },
  {
   "cell_type": "code",
   "execution_count": 8,
   "id": "a139a9a8-9ded-4175-b023-fe871850f3a4",
   "metadata": {},
   "outputs": [
    {
     "data": {
      "text/html": [
       "<div>\n",
       "<style scoped>\n",
       "    .dataframe tbody tr th:only-of-type {\n",
       "        vertical-align: middle;\n",
       "    }\n",
       "\n",
       "    .dataframe tbody tr th {\n",
       "        vertical-align: top;\n",
       "    }\n",
       "\n",
       "    .dataframe thead th {\n",
       "        text-align: right;\n",
       "    }\n",
       "</style>\n",
       "<table border=\"1\" class=\"dataframe\">\n",
       "  <thead>\n",
       "    <tr style=\"text-align: right;\">\n",
       "      <th></th>\n",
       "      <th>login</th>\n",
       "      <th>full_name</th>\n",
       "      <th>created_at</th>\n",
       "      <th>stargazers_count</th>\n",
       "      <th>watchers_count</th>\n",
       "      <th>language</th>\n",
       "      <th>has_projects</th>\n",
       "      <th>has_wiki</th>\n",
       "      <th>license_name</th>\n",
       "    </tr>\n",
       "  </thead>\n",
       "  <tbody>\n",
       "    <tr>\n",
       "      <th>0</th>\n",
       "      <td>yyx990803</td>\n",
       "      <td>yyx990803/opensourcepledge.com</td>\n",
       "      <td>2024-10-14T08:05:24Z</td>\n",
       "      <td>8</td>\n",
       "      <td>8</td>\n",
       "      <td>NaN</td>\n",
       "      <td>True</td>\n",
       "      <td>False</td>\n",
       "      <td>NaN</td>\n",
       "    </tr>\n",
       "    <tr>\n",
       "      <th>1</th>\n",
       "      <td>yyx990803</td>\n",
       "      <td>yyx990803/launch-editor</td>\n",
       "      <td>2018-01-06T18:08:42Z</td>\n",
       "      <td>578</td>\n",
       "      <td>578</td>\n",
       "      <td>JavaScript</td>\n",
       "      <td>True</td>\n",
       "      <td>True</td>\n",
       "      <td>mit</td>\n",
       "    </tr>\n",
       "    <tr>\n",
       "      <th>2</th>\n",
       "      <td>yyx990803</td>\n",
       "      <td>yyx990803/vue-macros</td>\n",
       "      <td>2023-11-25T09:08:31Z</td>\n",
       "      <td>12</td>\n",
       "      <td>12</td>\n",
       "      <td>TypeScript</td>\n",
       "      <td>True</td>\n",
       "      <td>False</td>\n",
       "      <td>mit</td>\n",
       "    </tr>\n",
       "    <tr>\n",
       "      <th>3</th>\n",
       "      <td>yyx990803</td>\n",
       "      <td>yyx990803/core</td>\n",
       "      <td>2024-08-16T12:34:16Z</td>\n",
       "      <td>9</td>\n",
       "      <td>9</td>\n",
       "      <td>NaN</td>\n",
       "      <td>True</td>\n",
       "      <td>False</td>\n",
       "      <td>mit</td>\n",
       "    </tr>\n",
       "    <tr>\n",
       "      <th>4</th>\n",
       "      <td>yyx990803</td>\n",
       "      <td>yyx990803/oxc-node-loader</td>\n",
       "      <td>2024-07-03T06:54:40Z</td>\n",
       "      <td>22</td>\n",
       "      <td>22</td>\n",
       "      <td>JavaScript</td>\n",
       "      <td>True</td>\n",
       "      <td>True</td>\n",
       "      <td>NaN</td>\n",
       "    </tr>\n",
       "  </tbody>\n",
       "</table>\n",
       "</div>"
      ],
      "text/plain": [
       "       login                       full_name            created_at  \\\n",
       "0  yyx990803  yyx990803/opensourcepledge.com  2024-10-14T08:05:24Z   \n",
       "1  yyx990803         yyx990803/launch-editor  2018-01-06T18:08:42Z   \n",
       "2  yyx990803            yyx990803/vue-macros  2023-11-25T09:08:31Z   \n",
       "3  yyx990803                  yyx990803/core  2024-08-16T12:34:16Z   \n",
       "4  yyx990803       yyx990803/oxc-node-loader  2024-07-03T06:54:40Z   \n",
       "\n",
       "   stargazers_count  watchers_count    language  has_projects  has_wiki  \\\n",
       "0                 8               8         NaN          True     False   \n",
       "1               578             578  JavaScript          True      True   \n",
       "2                12              12  TypeScript          True     False   \n",
       "3                 9               9         NaN          True     False   \n",
       "4                22              22  JavaScript          True      True   \n",
       "\n",
       "  license_name  \n",
       "0          NaN  \n",
       "1          mit  \n",
       "2          mit  \n",
       "3          mit  \n",
       "4          NaN  "
      ]
     },
     "execution_count": 8,
     "metadata": {},
     "output_type": "execute_result"
    }
   ],
   "source": [
    "repos = pd.read_csv('repositories.csv')\n",
    "repos.head()"
   ]
  },
  {
   "cell_type": "code",
   "execution_count": 9,
   "id": "f5b0a4ce-ae41-4066-a59a-58e81f27ad47",
   "metadata": {},
   "outputs": [
    {
     "data": {
      "text/plain": [
       "license_name\n",
       "mit           13270\n",
       "apache-2.0     5581\n",
       "other          4089\n",
       "Name: count, dtype: int64"
      ]
     },
     "execution_count": 9,
     "metadata": {},
     "output_type": "execute_result"
    }
   ],
   "source": [
    "repos['license_name'].value_counts().head(3)"
   ]
  },
  {
   "cell_type": "markdown",
   "id": "662f1894-2c60-429c-b06d-cbe36afe6f08",
   "metadata": {},
   "source": [
    "#### Q4. Which company do the majority of these developers work at?"
   ]
  },
  {
   "cell_type": "code",
   "execution_count": 10,
   "id": "93a985b2-4e56-4871-9757-23e6ae5ed0de",
   "metadata": {},
   "outputs": [
    {
     "data": {
      "text/plain": [
       "company\n",
       "NATIONAL UNIVERSITY OF SINGAPORE    42\n",
       "Name: count, dtype: int64"
      ]
     },
     "execution_count": 10,
     "metadata": {},
     "output_type": "execute_result"
    }
   ],
   "source": [
    "users['company'].value_counts().head(1)"
   ]
  },
  {
   "cell_type": "markdown",
   "id": "3e73104c-f44c-4e59-aecc-cb10a34578a1",
   "metadata": {},
   "source": [
    "#### Q5. Which programming language is most popular among these users?"
   ]
  },
  {
   "cell_type": "code",
   "execution_count": 11,
   "id": "1abcf548-42aa-43fc-837e-86c6db860617",
   "metadata": {},
   "outputs": [
    {
     "data": {
      "text/plain": [
       "language\n",
       "JavaScript    7532\n",
       "Name: count, dtype: int64"
      ]
     },
     "execution_count": 11,
     "metadata": {},
     "output_type": "execute_result"
    }
   ],
   "source": [
    "repos['language'].value_counts().head(1)"
   ]
  },
  {
   "cell_type": "markdown",
   "id": "bf7abc13-3226-4c35-b42e-400f06cac01d",
   "metadata": {},
   "source": [
    "#### Q6. Which programming language is the second most popular among users who joined after 2020?"
   ]
  },
  {
   "cell_type": "code",
   "execution_count": 12,
   "id": "d01727ac-d1de-4407-a65b-db7a88223d81",
   "metadata": {},
   "outputs": [
    {
     "data": {
      "text/html": [
       "<div>\n",
       "<style scoped>\n",
       "    .dataframe tbody tr th:only-of-type {\n",
       "        vertical-align: middle;\n",
       "    }\n",
       "\n",
       "    .dataframe tbody tr th {\n",
       "        vertical-align: top;\n",
       "    }\n",
       "\n",
       "    .dataframe thead th {\n",
       "        text-align: right;\n",
       "    }\n",
       "</style>\n",
       "<table border=\"1\" class=\"dataframe\">\n",
       "  <thead>\n",
       "    <tr style=\"text-align: right;\">\n",
       "      <th></th>\n",
       "      <th>login</th>\n",
       "      <th>name</th>\n",
       "      <th>company</th>\n",
       "      <th>location</th>\n",
       "      <th>email</th>\n",
       "      <th>hireable</th>\n",
       "      <th>bio</th>\n",
       "      <th>public_repos</th>\n",
       "      <th>followers</th>\n",
       "      <th>following</th>\n",
       "      <th>created_at</th>\n",
       "    </tr>\n",
       "  </thead>\n",
       "  <tbody>\n",
       "    <tr>\n",
       "      <th>8</th>\n",
       "      <td>rustdesk</td>\n",
       "      <td>RustDesk</td>\n",
       "      <td>PURSLANE LTD.</td>\n",
       "      <td>Singapore</td>\n",
       "      <td>NaN</td>\n",
       "      <td>False</td>\n",
       "      <td>Making affordable remote desktop service for e...</td>\n",
       "      <td>8</td>\n",
       "      <td>5013</td>\n",
       "      <td>1</td>\n",
       "      <td>2020-09-21 09:13:05+00:00</td>\n",
       "    </tr>\n",
       "    <tr>\n",
       "      <th>15</th>\n",
       "      <td>Shib-Chain</td>\n",
       "      <td>ShibChain</td>\n",
       "      <td>NaN</td>\n",
       "      <td>Singapore</td>\n",
       "      <td>dev@shibchain.app</td>\n",
       "      <td>False</td>\n",
       "      <td>NaN</td>\n",
       "      <td>6</td>\n",
       "      <td>3178</td>\n",
       "      <td>0</td>\n",
       "      <td>2022-09-06 07:39:53+00:00</td>\n",
       "    </tr>\n",
       "    <tr>\n",
       "      <th>21</th>\n",
       "      <td>CodexploreRepo</td>\n",
       "      <td>CodeXplore</td>\n",
       "      <td>CODEXPLORE</td>\n",
       "      <td>Singapore</td>\n",
       "      <td>codexplore.channel@gmail.com</td>\n",
       "      <td>False</td>\n",
       "      <td>STAY HUNGRY. STAY FOOLISH</td>\n",
       "      <td>54</td>\n",
       "      <td>1945</td>\n",
       "      <td>7</td>\n",
       "      <td>2020-04-29 00:48:32+00:00</td>\n",
       "    </tr>\n",
       "    <tr>\n",
       "      <th>43</th>\n",
       "      <td>mind-network</td>\n",
       "      <td>Mind Network</td>\n",
       "      <td>NaN</td>\n",
       "      <td>Singapore</td>\n",
       "      <td>biz@mindnetwork.xyz</td>\n",
       "      <td>False</td>\n",
       "      <td>An FHE (Fully Homomorphic Encryption) Restakin...</td>\n",
       "      <td>19</td>\n",
       "      <td>1164</td>\n",
       "      <td>0</td>\n",
       "      <td>2022-01-09 13:49:46+00:00</td>\n",
       "    </tr>\n",
       "    <tr>\n",
       "      <th>44</th>\n",
       "      <td>okx</td>\n",
       "      <td>OKX.com</td>\n",
       "      <td>NaN</td>\n",
       "      <td>Singapore</td>\n",
       "      <td>support@okx.com</td>\n",
       "      <td>False</td>\n",
       "      <td>OKX is a world-leading digital asset exchange,...</td>\n",
       "      <td>133</td>\n",
       "      <td>1160</td>\n",
       "      <td>0</td>\n",
       "      <td>2022-12-09 01:40:23+00:00</td>\n",
       "    </tr>\n",
       "  </tbody>\n",
       "</table>\n",
       "</div>"
      ],
      "text/plain": [
       "             login          name        company   location  \\\n",
       "8         rustdesk      RustDesk  PURSLANE LTD.  Singapore   \n",
       "15      Shib-Chain     ShibChain            NaN  Singapore   \n",
       "21  CodexploreRepo    CodeXplore     CODEXPLORE  Singapore   \n",
       "43    mind-network  Mind Network            NaN  Singapore   \n",
       "44             okx       OKX.com            NaN  Singapore   \n",
       "\n",
       "                           email  hireable  \\\n",
       "8                            NaN     False   \n",
       "15             dev@shibchain.app     False   \n",
       "21  codexplore.channel@gmail.com     False   \n",
       "43           biz@mindnetwork.xyz     False   \n",
       "44               support@okx.com     False   \n",
       "\n",
       "                                                  bio  public_repos  \\\n",
       "8   Making affordable remote desktop service for e...             8   \n",
       "15                                                NaN             6   \n",
       "21                          STAY HUNGRY. STAY FOOLISH            54   \n",
       "43  An FHE (Fully Homomorphic Encryption) Restakin...            19   \n",
       "44  OKX is a world-leading digital asset exchange,...           133   \n",
       "\n",
       "    followers  following                created_at  \n",
       "8        5013          1 2020-09-21 09:13:05+00:00  \n",
       "15       3178          0 2022-09-06 07:39:53+00:00  \n",
       "21       1945          7 2020-04-29 00:48:32+00:00  \n",
       "43       1164          0 2022-01-09 13:49:46+00:00  \n",
       "44       1160          0 2022-12-09 01:40:23+00:00  "
      ]
     },
     "execution_count": 12,
     "metadata": {},
     "output_type": "execute_result"
    }
   ],
   "source": [
    "users_after_2020 = users[users['created_at'] > '2020-01-01']\n",
    "users_after_2020.head()"
   ]
  },
  {
   "cell_type": "code",
   "execution_count": 13,
   "id": "aee537b6-38c7-4aa5-baae-c398fe385053",
   "metadata": {},
   "outputs": [
    {
     "data": {
      "text/plain": [
       "language\n",
       "TypeScript    495\n",
       "Python        326\n",
       "JavaScript    288\n",
       "Rust          171\n",
       "Go            152\n",
       "Name: count, dtype: int64"
      ]
     },
     "execution_count": 13,
     "metadata": {},
     "output_type": "execute_result"
    }
   ],
   "source": [
    "repos_2020 = repos[repos['login'].isin(users_after_2020['login'].tolist())]\n",
    "repos_2020['language'].value_counts().head()"
   ]
  },
  {
   "cell_type": "markdown",
   "id": "d0b07a2f-bcae-496b-ab7e-188a2f0aa7be",
   "metadata": {},
   "source": [
    "#### Q7. Which language has the highest average number of stars per repository? "
   ]
  },
  {
   "cell_type": "code",
   "execution_count": 14,
   "id": "8c8a119a-e562-4855-8330-23b6dccdfea9",
   "metadata": {},
   "outputs": [
    {
     "name": "stdout",
     "output_type": "stream",
     "text": [
      "Inno Setup 1509.0\n"
     ]
    }
   ],
   "source": [
    "avg_stars = repos.groupby('language')['stargazers_count'].mean()\n",
    "top_lang = avg_stars.idxmax()\n",
    "top_stars = avg_stars.max()\n",
    "print(top_lang, top_stars)"
   ]
  },
  {
   "cell_type": "markdown",
   "id": "e430846a-1518-409f-8717-cb2f84570460",
   "metadata": {},
   "source": [
    "#### Q8. Let's define leader_strength as followers / (1 + following). Who are the top 5 in terms of leader_strength? List their login in order, comma-separated."
   ]
  },
  {
   "cell_type": "code",
   "execution_count": 15,
   "id": "aa51b046-149f-4ef5-89ff-62586043992c",
   "metadata": {},
   "outputs": [
    {
     "name": "stdout",
     "output_type": "stream",
     "text": [
      "bytedance,Jinjiang,cloudflare,JamesNK,Shib-Chain\n"
     ]
    }
   ],
   "source": [
    "users['leader_strength'] = users['followers'] / (1 + users['following'])\n",
    "top5_lead = users.sort_values(by='leader_strength', ascending=False).head()\n",
    "print(','.join(top5_lead['login'].tolist()))"
   ]
  },
  {
   "cell_type": "markdown",
   "id": "8dd87be3-3a61-4fe1-ab5c-1ef836c545d3",
   "metadata": {},
   "source": [
    "#### Q9. What is the correlation between the number of followers and the number of public repositories among users in Basel?"
   ]
  },
  {
   "cell_type": "code",
   "execution_count": 16,
   "id": "91e8b274-bde5-41ac-91d2-d965334f2d35",
   "metadata": {},
   "outputs": [
    {
     "data": {
      "text/plain": [
       "0.0456753649078842"
      ]
     },
     "execution_count": 16,
     "metadata": {},
     "output_type": "execute_result"
    }
   ],
   "source": [
    "correlation = users['followers'].corr(users['public_repos'])\n",
    "correlation"
   ]
  },
  {
   "cell_type": "markdown",
   "id": "23dac608-8b88-48d8-aeae-1e11b2cb2b87",
   "metadata": {},
   "source": [
    "#### Q10. Does creating more repos help users get more followers? Using regression, estimate how many additional followers a user gets per additional public repository."
   ]
  },
  {
   "cell_type": "code",
   "execution_count": 17,
   "id": "9eede565-f813-4807-989b-051201f7f411",
   "metadata": {},
   "outputs": [
    {
     "name": "stdout",
     "output_type": "stream",
     "text": [
      "1.423\n"
     ]
    }
   ],
   "source": [
    "import csv\n",
    "followers = []\n",
    "public_repos = []\n",
    "with open('users.csv', 'r', encoding='utf-8') as file:\n",
    "    reader = csv.DictReader(file)\n",
    "    for row in reader:\n",
    "        followers_count = int(row['followers'])\n",
    "        public_repos_count = int(row['public_repos'])\n",
    "        followers.append(followers_count)\n",
    "        public_repos.append(public_repos_count)\n",
    "if len(followers) > 1 and len(public_repos) > 1:\n",
    "    slope, intercept = np.polyfit(public_repos, followers, 1)\n",
    "    \n",
    "    print(f\"{slope:.3f}\")\n",
    "else:\n",
    "    print(\"Error\")"
   ]
  },
  {
   "cell_type": "markdown",
   "id": "b1739602-5cef-48d6-a3ef-3ecc1d12f405",
   "metadata": {},
   "source": [
    "#### Q11. Do people typically enable projects and wikis together? What is the correlation between a repo having projects enabled and having wiki enabled?"
   ]
  },
  {
   "cell_type": "code",
   "execution_count": 18,
   "id": "e680160d-cfa3-42ef-be27-55a772b77171",
   "metadata": {},
   "outputs": [
    {
     "name": "stdout",
     "output_type": "stream",
     "text": [
      "0.301\n"
     ]
    }
   ],
   "source": [
    "if repos['has_projects'].dtype == 'object':\n",
    "    repos['has_projects'] = repos['has_projects'].map({'true': True, 'false': False})\n",
    "if repos['has_wiki'].dtype == 'object':\n",
    "    repos['has_wiki'] = repos['has_wiki'].map({'true': True, 'false': False})\n",
    "    \n",
    "correlation = repos['has_projects'].corr(repos['has_wiki'])\n",
    "    \n",
    "print(round(correlation, 3))"
   ]
  },
  {
   "cell_type": "markdown",
   "id": "7d1c5de4-b714-46e2-af6a-ad41e8a42f8f",
   "metadata": {},
   "source": [
    "#### Q12. Do hireable users follow more people than those who are not hireable?"
   ]
  },
  {
   "cell_type": "code",
   "execution_count": 19,
   "id": "cd51bed6-bba7-4407-94a9-ccc5e3968b4d",
   "metadata": {},
   "outputs": [
    {
     "data": {
      "text/plain": [
       "219.5858546013964"
      ]
     },
     "execution_count": 19,
     "metadata": {},
     "output_type": "execute_result"
    }
   ],
   "source": [
    "hireable_avg_following = users[users['hireable'] == True]['following'].mean()\n",
    "non_hireable_avg_following = users[users['hireable'] == False]['following'].mean()\n",
    "difference = hireable_avg_following - non_hireable_avg_following\n",
    "difference"
   ]
  },
  {
   "cell_type": "markdown",
   "id": "1f30dbcf-90f2-4531-b37c-0386828e1f9f",
   "metadata": {},
   "source": [
    "#### Q13. Some developers write long bios. Does that help them get more followers? What's the correlation of the length of their bio (in Unicode characters) with followers? (Ignore people without bios)"
   ]
  },
  {
   "cell_type": "code",
   "execution_count": 20,
   "id": "a324c8b4-9faf-4f4d-9c3d-0813e6bdbfb8",
   "metadata": {},
   "outputs": [
    {
     "data": {
      "text/plain": [
       "5.45621887663618"
      ]
     },
     "execution_count": 20,
     "metadata": {},
     "output_type": "execute_result"
    }
   ],
   "source": [
    "from sklearn.linear_model import LinearRegression\n",
    "users_with_bio = users[(users['bio'].notna()) & (users['bio'] != '')].copy()\n",
    "users_with_bio.loc[:, 'bio_len'] = users_with_bio['bio'].str.len()\n",
    "\n",
    "X = users_with_bio['bio_len'].values.reshape(-1,1)\n",
    "y = users_with_bio['followers']\n",
    "\n",
    "lr2 = LinearRegression()\n",
    "lr2.fit(X, y)\n",
    "lr2.coef_[0]"
   ]
  },
  {
   "cell_type": "markdown",
   "id": "96cb22e4-4046-40cf-9be5-06f096b0f0c3",
   "metadata": {},
   "source": [
    "#### Q14. Who created the most repositories on weekends (UTC)? List the top 5 users' login in order, comma-separated"
   ]
  },
  {
   "cell_type": "code",
   "execution_count": 21,
   "id": "ab49dafe-2981-4fe1-b603-0bee0e61e04f",
   "metadata": {},
   "outputs": [
    {
     "name": "stdout",
     "output_type": "stream",
     "text": [
      "alextanhongpin,SOF3,shantanu561993,KennyDizi,vdt\n"
     ]
    }
   ],
   "source": [
    "import csv\n",
    "from collections import Counter\n",
    "from datetime import datetime\n",
    "\n",
    "weekend_repo_counts = Counter()\n",
    "\n",
    "with open('repositories.csv', 'r', encoding='utf-8') as file:\n",
    "    reader = csv.DictReader(file)\n",
    "    \n",
    "    for row in reader:\n",
    "        created_at = row.get('created_at', '')\n",
    "        if created_at:\n",
    "            created_date = datetime.fromisoformat(created_at[:-1])  \n",
    "            \n",
    "            if created_date.weekday() in [5, 6]:\n",
    "                user_login = row['login']\n",
    "                weekend_repo_counts[user_login] += 1  \n",
    "\n",
    "top_users = weekend_repo_counts.most_common(5)\n",
    "\n",
    "top_logins = [user[0] for user in top_users]\n",
    "\n",
    "print(','.join(top_logins))"
   ]
  },
  {
   "cell_type": "markdown",
   "id": "6d9da60a-2ff0-4421-808e-ab9a74bf02fb",
   "metadata": {},
   "source": [
    "#### Q15. Do people who are hireable share their email addresses more often?"
   ]
  },
  {
   "cell_type": "code",
   "execution_count": 22,
   "id": "b8381831-d1ed-4855-afc2-97ad1c06a1af",
   "metadata": {},
   "outputs": [
    {
     "data": {
      "text/plain": [
       "0.08108161413750936"
      ]
     },
     "execution_count": 22,
     "metadata": {},
     "output_type": "execute_result"
    }
   ],
   "source": [
    "fraction_hierable = users[users['hireable'] == True]['email'].notna().mean()\n",
    "fraction_non_hierable = users[users['hireable'] == False]['email'].notna().mean()\n",
    "diff = fraction_hierable - fraction_non_hierable\n",
    "diff"
   ]
  },
  {
   "cell_type": "markdown",
   "id": "806a227e-1285-4c5f-bb05-867a3fd5101a",
   "metadata": {},
   "source": [
    "#### Q16. Let's assume that the last word in a user's name is their surname (ignore missing names, trim and split by whitespace.) What's the most common surname? (If there's a tie, list them all, comma-separated, alphabetically)"
   ]
  },
  {
   "cell_type": "code",
   "execution_count": 23,
   "id": "01a24dfb-05cc-4528-b118-558b2307639c",
   "metadata": {},
   "outputs": [
    {
     "name": "stdout",
     "output_type": "stream",
     "text": [
      "Wang\n"
     ]
    }
   ],
   "source": [
    "new_users = users[users['name'].notna()].copy()\n",
    "new_users['surname'] = new_users['name'].str.split().str[-1].str.strip()\n",
    "surname_counts = new_users['surname'].value_counts()\n",
    "max_count = surname_counts.max()\n",
    "common_surnames = surname_counts[surname_counts == max_count].index.tolist()\n",
    "common_surnames.sort()\n",
    "print(','.join(common_surnames))"
   ]
  },
  {
   "cell_type": "code",
   "execution_count": 24,
   "id": "2cc25d8c-a405-46d2-ba14-78bf49fabbc6",
   "metadata": {},
   "outputs": [],
   "source": [
    "# users = users.fillna(\"\").astype(str)\n",
    "# repos = repos.fillna(\"\").astype(str)\n",
    "\n",
    "# repos['has_wiki'] = repos['has_wiki'].astype(str).replace({'True': 'true', 'False': 'false'})\n",
    "# repos['has_projects'] = repos['has_projects'].astype(str).replace({'True': 'true', 'False': 'false'})\n",
    "\n",
    "# # users.to_csv('users1.csv', index=False)\n",
    "# repos.to_csv('repos1.csv', index=False)"
   ]
  }
 ],
 "metadata": {
  "kernelspec": {
   "display_name": "Python 3",
   "language": "python",
   "name": "python3"
  },
  "language_info": {
   "codemirror_mode": {
    "name": "ipython",
    "version": 3
   },
   "file_extension": ".py",
   "mimetype": "text/x-python",
   "name": "python",
   "nbconvert_exporter": "python",
   "pygments_lexer": "ipython3",
   "version": "3.10.11"
  }
 },
 "nbformat": 4,
 "nbformat_minor": 5
}
